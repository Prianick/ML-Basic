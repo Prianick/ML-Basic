{
 "cells": [
  {
   "cell_type": "markdown",
   "id": "8955a739",
   "metadata": {},
   "source": [
    "# Домашнее задание: Базовые типы данных\n",
    "\n"
   ]
  },
  {
   "cell_type": "markdown",
   "id": "d4e67b86",
   "metadata": {},
   "source": [
    "## Задание 1: Зеркальное отражение цифр\n",
    "\n",
    "Пользователь вводит пятизначное число. Программа должна зеркально отразить три центральные цифры. Первая и последняя остаются на местах.\n",
    "\n",
    "<br>\n",
    "\n",
    "**Примеры:**\n",
    "* `23456 -> 25436`\n",
    "* `30789 -> 38709`"
   ]
  },
  {
   "cell_type": "code",
   "execution_count": null,
   "id": "5a4d665d",
   "metadata": {},
   "outputs": [],
   "source": [
    "string = input()\n",
    "number = int(string[0] + string[1:-1][::-1] + string[-1])\n",
    "print(number)"
   ]
  },
  {
   "cell_type": "markdown",
   "id": "00b9578b",
   "metadata": {},
   "source": [
    "## Задание 2: Подсчет выходных до отпуска\n",
    "\n",
    "Пользователь вводит сколько дней осталось до ближайшего отпуска. Программа должна вывести количество выходных дней до отпуска, если учесть, что выходные это суббота и воскресенье, сегодня понедельник и праздники мы не учитываем.  \n",
    "\n",
    "<br>\n",
    "\n",
    "**Примеры:**\n",
    "* `4  -> 0`\n",
    "* `6  -> 1`\n",
    "* `14 -> 4`"
   ]
  },
  {
   "cell_type": "code",
   "execution_count": null,
   "id": "07154103",
   "metadata": {},
   "outputs": [],
   "source": [
    "days = int(input())\n",
    "full_weeks = days // 7\n",
    "extra_days = days - full_weeks * 7\n",
    "weekends_days = full_weeks * 2\n",
    "if(extra_days == 6):\n",
    "    weekends_days += 1\n",
    "print(weekends_days)"
   ]
  },
  {
   "cell_type": "markdown",
   "id": "cdde282c",
   "metadata": {},
   "source": [
    "## Задание 3: Плитка шоколада\n",
    "\n",
    "Пользователь вводит длину и ширину плитки шоколада, а также размер куска, который хочет отломить. Программа должна вычислить - можно ли совершить подобный разлом или нет, если учесть, что ломать можно только по прямой.\n",
    "\n",
    "<br>\n",
    "\n",
    "**Примеры:**\n",
    "* `3, 4, 6  -> True`\n",
    "* `5, 7, 8  -> False`\n",
    "* `4, 5, 12 -> True`"
   ]
  },
  {
   "cell_type": "code",
   "execution_count": null,
   "id": "70f3324c",
   "metadata": {},
   "outputs": [],
   "source": [
    "dimantions = input()\n",
    "dimantions = dimantions.split(', ')\n",
    "width = int(dimantions[0])\n",
    "length = int(dimantions[1])\n",
    "needed_piece = int(dimantions[2])\n",
    "\n",
    "if(\n",
    "    length * width >= needed_piece\n",
    "    and (\n",
    "        needed_piece % width == 0\n",
    "        or needed_piece % length == 0\n",
    "    )\n",
    "):\n",
    "    print('True')\n",
    "else:\n",
    "    print('False')"
   ]
  },
  {
   "cell_type": "markdown",
   "id": "6470efc1",
   "metadata": {},
   "source": [
    "## Задание 4: Римские числа\n",
    "\n",
    "Пользователь вводит целое положительное число, программа должна вернуть строку в виде римского числа.\n",
    "\n",
    "<br>\n",
    "\n",
    "**Примеры:**\n",
    "* `3   -> III`\n",
    "* `15  -> XV`\n",
    "* `234 -> CCXXXIV`"
   ]
  },
  {
   "cell_type": "code",
   "execution_count": null,
   "id": "8686127c",
   "metadata": {},
   "outputs": [],
   "source": [
    "arabic_number = int(input())\n",
    "\n",
    "map = {\n",
    "    'M': 1000,\n",
    "    'CM': 900,\n",
    "    'D': 500, \n",
    "    'CD': 400,                 \n",
    "    'C': 100, \n",
    "    'XC': 90, \n",
    "    'L': 50, \n",
    "    'XL': 40,\n",
    "    'X': 10, \n",
    "    'IX': 9, \n",
    "    'V': 5, \n",
    "    'IV': 4, \n",
    "    'I': 1\n",
    "}\n",
    "\n",
    "roman_number = ''\n",
    "\n",
    "for key, value in map.items():\n",
    "    while arabic_number >= value:\n",
    "        roman_number += key\n",
    "        arabic_number -= value\n",
    "\n",
    "print(roman_number)"
   ]
  },
  {
   "cell_type": "markdown",
   "id": "ca6a4c0a",
   "metadata": {},
   "source": [
    "## Задание 5: Проверка на вещественное число\n",
    "\n",
    "Пользователь вводит данные, проверить - являются ли они положительным вещественным числом. Не использовать встроенные функции для проверки, только методы данных и конструкцию IF. (Дополнительное задание, по желанию - проверка на отрицательные вещественные числа)\n",
    "\n",
    "<br>\n",
    "\n",
    "**Примеры:**\n",
    "* `5.6  -> True`\n",
    "* `.78  -> True`\n",
    "* `.67. -> False`\n",
    "* `5    -> True`"
   ]
  },
  {
   "cell_type": "code",
   "execution_count": null,
   "id": "74e39179",
   "metadata": {},
   "outputs": [],
   "source": [
    "try:\n",
    "    float(input())\n",
    "except ValueError:\n",
    "    print('False')\n",
    "else:\n",
    "    print('True')"
   ]
  }
 ],
 "metadata": {
  "kernelspec": {
   "display_name": ".venv (3.11.12)",
   "language": "python",
   "name": "python3"
  },
  "language_info": {
   "name": "python",
   "version": "3.11.12"
  }
 },
 "nbformat": 4,
 "nbformat_minor": 5
}
