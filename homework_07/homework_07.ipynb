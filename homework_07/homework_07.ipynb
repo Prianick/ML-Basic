{
 "cells": [
  {
   "cell_type": "markdown",
   "metadata": {},
   "source": [
    "# Я художник, я так вижу, визуализация данных в питоне"
   ]
  },
  {
   "cell_type": "markdown",
   "metadata": {},
   "source": [
    "# I. Numpy"
   ]
  },
  {
   "cell_type": "markdown",
   "metadata": {},
   "source": [
    "### Импортируйте NumPy"
   ]
  },
  {
   "cell_type": "code",
   "execution_count": null,
   "metadata": {},
   "outputs": [],
   "source": [
    "import numpy as np"
   ]
  },
  {
   "cell_type": "markdown",
   "metadata": {},
   "source": [
    "### Создайте одномерный массив размера 10, заполненный нулями и пятым элемент равным 1. Трансформируйте в двумерный массив."
   ]
  },
  {
   "cell_type": "code",
   "execution_count": null,
   "metadata": {},
   "outputs": [],
   "source": [
    "arr = np.zeros(10)\n",
    "arr[4] = 1\n",
    "print(arr)"
   ]
  },
  {
   "cell_type": "markdown",
   "metadata": {},
   "source": [
    "### Создайте одномерный массив со значениями от 10 до 49 и разверните его (первый элемент становится последним). Найдите в нем все четные элементы."
   ]
  },
  {
   "cell_type": "code",
   "execution_count": null,
   "metadata": {},
   "outputs": [],
   "source": [
    "arr = np.flip(np.arange(10, 50))\n",
    "print(arr)\n",
    "print(arr[arr % 2 == 0])"
   ]
  },
  {
   "cell_type": "markdown",
   "metadata": {},
   "source": [
    "### Создайте двумерный массив 3x3 со значениями от 0 до 8"
   ]
  },
  {
   "cell_type": "code",
   "execution_count": null,
   "metadata": {},
   "outputs": [],
   "source": [
    "arr = np.array([[0,1,2],[3,4,5],[6,7,8]])\n",
    "print(arr)"
   ]
  },
  {
   "cell_type": "markdown",
   "metadata": {},
   "source": [
    "### Создайте массив 4x3x2 со случайными значениями. Найти его минимум и максимум."
   ]
  },
  {
   "cell_type": "code",
   "execution_count": null,
   "metadata": {},
   "outputs": [],
   "source": [
    "arr = np.random.rand(4,3,2)\n",
    "print(arr)"
   ]
  },
  {
   "cell_type": "markdown",
   "metadata": {},
   "source": [
    "### Создайте два двумерных массива размерами 6x4 и 4x3 и произведите их матричное умножение. "
   ]
  },
  {
   "cell_type": "code",
   "execution_count": null,
   "metadata": {},
   "outputs": [],
   "source": [
    "arr1 = (np.random.rand(6, 4) * 9 + 1).astype(int)\n",
    "arr2 = (np.random.rand(4, 3) * 9 + 1).astype(int)\n",
    "print(arr1)\n",
    "print(arr2)\n",
    "print('Результат матричного умножения:')\n",
    "print(arr1 @ arr2)"
   ]
  },
  {
   "cell_type": "markdown",
   "metadata": {},
   "source": [
    "### Создайте случайный двумерный массив 7x7, найти у него среднее и стандартное отклонение. Нормализуйте этот массив."
   ]
  },
  {
   "cell_type": "code",
   "execution_count": null,
   "metadata": {},
   "outputs": [],
   "source": [
    "np.random.seed(123)\n",
    "arr = np.random.randint(0, 1000, (7, 7))\n",
    "arr"
   ]
  },
  {
   "cell_type": "code",
   "execution_count": null,
   "metadata": {},
   "outputs": [],
   "source": [
    "np.random.seed(123)\n",
    "arr = np.random.randint(0, 1000, (7, 7))\n",
    "print(arr)\n",
    "\n",
    "print(arr.std())\n",
    "print(arr.mean())\n",
    "\n",
    "def min_max_normalize(arr):\n",
    "    min_val = np.min(arr)\n",
    "    max_val = np.max(arr)\n",
    "    return (arr - min_val) / (max_val - min_val)\n",
    "\n",
    "# Пример\n",
    "arr = np.random.rand(7, 7)\n",
    "min_max_normalized = min_max_normalize(arr)\n",
    "\n",
    "print(min_max_normalized.round(4))"
   ]
  },
  {
   "cell_type": "markdown",
   "metadata": {},
   "source": [
    "# II. Pandas"
   ]
  },
  {
   "cell_type": "markdown",
   "metadata": {},
   "source": [
    "### Импортируйте: pandas, matplotlib, seaborn"
   ]
  },
  {
   "cell_type": "code",
   "execution_count": null,
   "metadata": {},
   "outputs": [],
   "source": [
    "import pandas as pd\n",
    "import matplotlib.pyplot as plt\n",
    "import seaborn as sns"
   ]
  },
  {
   "cell_type": "markdown",
   "metadata": {},
   "source": [
    "### Загрузите датасет Tips из набора датасетов seaborn"
   ]
  },
  {
   "cell_type": "code",
   "execution_count": null,
   "metadata": {},
   "outputs": [],
   "source": [
    "tips = sns.load_dataset(\"tips\")\n",
    "\n",
    "print(tips.head())\n",
    "print('--------------------------------')\n",
    "print(tips.tail())\n",
    "print('--------------типы данных------------------')\n",
    "print(tips.info()) \n",
    "print('--------------размерность------------------')\n",
    "print(tips.shape)\n",
    "print('--------------описательные статистики------------------')\n",
    "print(tips.describe())\n",
    "\n",
    "# import sweetviz as sv\n",
    "\n",
    "# Создать отчет\n",
    "# report = sv.analyze(tips)\n",
    "# report.show_html('sweetviz_report.html')"
   ]
  },
  {
   "cell_type": "markdown",
   "metadata": {},
   "source": [
    "### Посмотрите на первые 5 строчек"
   ]
  },
  {
   "cell_type": "code",
   "execution_count": null,
   "metadata": {},
   "outputs": [],
   "source": [
    "tips.head(5)"
   ]
  },
  {
   "cell_type": "markdown",
   "metadata": {},
   "source": [
    "### Узнайте сколько всего строчек и колонок в данных"
   ]
  },
  {
   "cell_type": "code",
   "execution_count": null,
   "metadata": {},
   "outputs": [],
   "source": [
    "rows, cols = tips.shape\n",
    "print(f\"Строк: {rows} \\nКолонок: {cols}\")"
   ]
  },
  {
   "cell_type": "markdown",
   "metadata": {},
   "source": [
    "### Проверьте есть ли пропуски в данных"
   ]
  },
  {
   "cell_type": "code",
   "execution_count": null,
   "metadata": {},
   "outputs": [],
   "source": [
    "print('--------------проверка на пропуски------------------')\n",
    "# tips.loc[100, 'tip'] = None # выставить пустое значение для проверки\n",
    "print(tips.isnull().sum())\n",
    "\n",
    "if tips.isnull().any().any():\n",
    "    print(\"\\nСтроки с пропусками:\")\n",
    "    print(tips[tips.isnull().any(axis=1)])\n",
    "else:\n",
    "    print(\"\\nПропусков в данных нет!\")"
   ]
  },
  {
   "cell_type": "markdown",
   "metadata": {},
   "source": [
    "### Посмотрите на распределение числовых признаков"
   ]
  },
  {
   "cell_type": "code",
   "execution_count": null,
   "metadata": {},
   "outputs": [],
   "source": [
    "print(tips.describe())"
   ]
  },
  {
   "cell_type": "code",
   "execution_count": null,
   "metadata": {},
   "outputs": [],
   "source": [
    "# Создаем subplot для всех числовых признаков\n",
    "fig, axes = plt.subplots(1, 3, figsize=(15, 5))\n",
    "\n",
    "# Гистограмма total_bill\n",
    "axes[0].hist(tips['total_bill'], bins=20, alpha=0.7, color='skyblue', edgecolor='black')\n",
    "axes[0].set_title('Распределение Total Bill')\n",
    "axes[0].set_xlabel('Total Bill ($)')\n",
    "axes[0].set_ylabel('Частота')\n",
    "\n",
    "# Гистограмма tip\n",
    "axes[1].hist(tips['tip'], bins=20, alpha=0.7, color='lightgreen', edgecolor='black')\n",
    "axes[1].set_title('Распределение Tip')\n",
    "axes[1].set_xlabel('Tip ($)')\n",
    "axes[1].set_ylabel('Частота')\n",
    "\n",
    "# Гистограмма size\n",
    "axes[2].hist(tips['size'], bins=range(1, 8), alpha=0.7, color='salmon', edgecolor='black')\n",
    "axes[2].set_title('Распределение Size')\n",
    "axes[2].set_xlabel('Size (количество человек)')\n",
    "axes[2].set_ylabel('Частота')\n",
    "\n",
    "plt.tight_layout()\n",
    "plt.show()"
   ]
  },
  {
   "cell_type": "code",
   "execution_count": null,
   "metadata": {},
   "outputs": [],
   "source": [
    "# Boxplot для числовых признаков\n",
    "fig, axes = plt.subplots(1, 3, figsize=(15, 5))\n",
    "\n",
    "# Boxplot для total_bill\n",
    "axes[0].boxplot(tips['total_bill'])\n",
    "axes[0].set_title('Boxplot Total Bill')\n",
    "axes[0].set_ylabel('Total Bill ($)')\n",
    "\n",
    "# Boxplot для tip\n",
    "axes[1].boxplot(tips['tip'])\n",
    "axes[1].set_title('Boxplot Tip')\n",
    "axes[1].set_ylabel('Tip ($)')\n",
    "\n",
    "# Boxplot для size\n",
    "axes[2].boxplot(tips['size'])\n",
    "axes[2].set_title('Boxplot Size')\n",
    "axes[2].set_ylabel('Size')\n",
    "\n",
    "plt.tight_layout()\n",
    "plt.show()"
   ]
  },
  {
   "cell_type": "markdown",
   "metadata": {},
   "source": [
    "Асимметрия (skewness)\n",
    "\n",
    "Асимметрия показывает, насколько распределение «сдвинуто» относительно симметричного нормального распределения.\n",
    "Skewness = 0 → распределение симметрично (нормальное).\n",
    "Skewness > 0 → правосторонняя (положительная) асимметрия: длинный хвост вправо.\n",
    "Пример: total_bill, tip (редкие большие счета и чаевые).\n",
    "Skewness < 0 → левосторонняя (отрицательная) асимметрия: хвост влево.\n",
    "Редко встречается, например, если большинство значений высокие, но есть редкие очень низкие.\n",
    "Чем больше абсолютное значение skewness (>1), тем сильнее искажение распределения\n",
    "\n",
    "Эксцесс (kurtosis)\n",
    "Эксцесс показывает, насколько распределение «тяжёлое» на хвостах по сравнению с нормальным.\n",
    "Kurtosis = 0 → распределение такое же, как нормальное (эталон).\n",
    "Kurtosis > 0 → лептокуртическое: острый пик + тяжёлые хвосты (много выбросов).Пример: total_bill (редкие большие счета создают тяжёлый хвост).\n",
    "Kurtosis < 0 → платикуртическое: более плоское, чем нормальное (значения равномернее распределены).\n",
    "\n",
    "Чем выше kurtosis, тем больше вероятность выбросов."
   ]
  },
  {
   "cell_type": "code",
   "execution_count": null,
   "metadata": {},
   "outputs": [],
   "source": [
    "\n",
    "numeric_columns = tips.select_dtypes(include=[np.number]).columns\n",
    "# Подробная статистика для каждого признака\n",
    "for col in numeric_columns:\n",
    "    print(f\"\\n=== Анализ признака '{col}' ===\")\n",
    "    print(f\"Среднее: {tips[col].mean():.2f}\")\n",
    "    print(f\"Медиана: {tips[col].median():.2f}\")\n",
    "    print(f\"Стандартное отклонение: {tips[col].std():.2f}\")\n",
    "    print(f\"Минимум: {tips[col].min():.2f}\")\n",
    "    print(f\"Максимум: {tips[col].max():.2f}\")\n",
    "    print(f\"Асимметрия (skewness): {tips[col].skew():.2f}\")\n",
    "    print(f\"Эксцесс (kurtosis): {tips[col].kurtosis():.2f}\")"
   ]
  },
  {
   "cell_type": "code",
   "execution_count": null,
   "metadata": {},
   "outputs": [],
   "source": [
    "# Корреляционная матрица числовых признаков\n",
    "correlation_matrix = tips[numeric_columns].corr()\n",
    "print(\"\\nКорреляционная матрица:\")\n",
    "print(correlation_matrix)\n",
    "\n",
    "# Визуализация корреляционной матрицы\n",
    "plt.figure(figsize=(8, 6))\n",
    "sns.heatmap(correlation_matrix, annot=True, cmap='coolwarm', center=0)\n",
    "plt.title('Корреляционная матрица числовых признаков')\n",
    "plt.show()"
   ]
  },
  {
   "cell_type": "code",
   "execution_count": null,
   "metadata": {},
   "outputs": [],
   "source": [
    "tips.to_csv('tips_dataset.csv')"
   ]
  },
  {
   "cell_type": "markdown",
   "metadata": {},
   "source": [
    "### Найдите максимальное значение 'total_bill'"
   ]
  },
  {
   "cell_type": "code",
   "execution_count": null,
   "metadata": {},
   "outputs": [],
   "source": [
    "print(tips['total_bill'].max())"
   ]
  },
  {
   "cell_type": "markdown",
   "metadata": {},
   "source": [
    "### Найдите количество курящих людей"
   ]
  },
  {
   "cell_type": "code",
   "execution_count": null,
   "metadata": {},
   "outputs": [],
   "source": [
    "print(tips['smoker'].value_counts())"
   ]
  },
  {
   "cell_type": "markdown",
   "metadata": {},
   "source": [
    "### Узнайте какой средний 'total_bill' в зависимости от 'day'"
   ]
  },
  {
   "cell_type": "code",
   "execution_count": null,
   "metadata": {},
   "outputs": [],
   "source": [
    "day_stats = tips.groupby('day', observed=False)['total_bill'].mean()\n",
    "print(\"Статистика по дням:\")\n",
    "print(day_stats)"
   ]
  },
  {
   "cell_type": "markdown",
   "metadata": {},
   "source": [
    "### Отберите строчки с 'total_bill' больше медианы и узнайте какой средний 'tip' в зависимости от 'sex'"
   ]
  },
  {
   "cell_type": "code",
   "execution_count": null,
   "metadata": {},
   "outputs": [],
   "source": [
    "median_bill = tips['total_bill'].median()\n",
    "print(f\"Медиана total_bill: {median_bill:.2f}\")\n",
    "high_bills = tips[tips['total_bill'] > median_bill]\n",
    "avg_tip_by_sex = high_bills.groupby('sex', observed=False)['tip'].mean()\n",
    "print(\"Средний tip в зависимости от sex (для счетов выше медианы):\")\n",
    "print(avg_tip_by_sex)"
   ]
  },
  {
   "cell_type": "markdown",
   "metadata": {},
   "source": [
    "### Преобразуйте признак 'smoker' в бинарный (0-No, 1-Yes)"
   ]
  },
  {
   "cell_type": "code",
   "execution_count": null,
   "metadata": {},
   "outputs": [],
   "source": [
    "tips['smoker_binary'] = tips['smoker'].map({'No': 0, 'Yes': 1})\n",
    "print(\"Результат преобразования:\")\n",
    "print(tips[['smoker', 'smoker_binary']].head(10))"
   ]
  },
  {
   "cell_type": "markdown",
   "metadata": {},
   "source": [
    "# III. Visualization"
   ]
  },
  {
   "cell_type": "markdown",
   "metadata": {},
   "source": [
    "### Постройте гистограмму распределения признака 'total_bill'"
   ]
  },
  {
   "cell_type": "code",
   "execution_count": null,
   "metadata": {},
   "outputs": [],
   "source": [
    "import seaborn as sns\n",
    "import matplotlib.pyplot as plt\n",
    "\n",
    "# Гистограмма через seaborn\n",
    "plt.figure(figsize=(10, 6))\n",
    "sns.histplot(data=tips, x='total_bill', bins=25, color='grey', alpha=0.3)\n",
    "plt.title('Распределение total_bill')\n",
    "plt.xlabel('Total Bill ($)')\n",
    "plt.ylabel('Частота')\n",
    "plt.show()"
   ]
  },
  {
   "cell_type": "markdown",
   "metadata": {},
   "source": [
    "### Постройте scatterplot, представляющий взаимосвязь между признаками 'total_bill' и 'tip'"
   ]
  },
  {
   "cell_type": "code",
   "execution_count": null,
   "metadata": {},
   "outputs": [],
   "source": [
    "plt.figure(figsize=(10, 6))\n",
    "sns.scatterplot(data=tips, x='total_bill', y='tip', alpha=0.7)\n",
    "plt.title('Взаимосвязь между total_bill и tip')\n",
    "plt.xlabel('Total Bill ($)')\n",
    "plt.ylabel('Tip ($)')\n",
    "plt.show()"
   ]
  },
  {
   "cell_type": "markdown",
   "metadata": {},
   "source": [
    "### Постройте pairplot"
   ]
  },
  {
   "cell_type": "code",
   "execution_count": null,
   "metadata": {},
   "outputs": [],
   "source": [
    "sns.pairplot(tips)\n",
    "plt.show()"
   ]
  },
  {
   "cell_type": "markdown",
   "metadata": {},
   "source": [
    "### Постройте график взаимосвязи между признаками 'total_bill' и 'day'"
   ]
  },
  {
   "cell_type": "code",
   "execution_count": null,
   "metadata": {},
   "outputs": [],
   "source": [
    "tips = sns.load_dataset('tips')\n",
    "\n",
    "sns.catplot(\n",
    "    data=tips,\n",
    "    y=\"total_bill\",\n",
    "    x=\"day\",\n",
    "    kind=\"violin\",\n",
    ")\n",
    "plt.show()"
   ]
  },
  {
   "cell_type": "code",
   "execution_count": null,
   "metadata": {},
   "outputs": [],
   "source": [
    "import matplotlib.pyplot as plt\n",
    "import seaborn as sns\n",
    "\n",
    "# Box plot показывает распределение total_bill по дням\n",
    "plt.figure(figsize=(10, 6))\n",
    "sns.boxplot(data=tips, x='day', y='total_bill')\n",
    "plt.title('Взаимосвязь между total_bill и day')\n",
    "plt.xlabel('День недели')\n",
    "plt.ylabel('Total Bill ($)')\n",
    "plt.show()"
   ]
  },
  {
   "cell_type": "markdown",
   "metadata": {},
   "source": [
    "### Постройте две гистограммы распределения признака 'tip' в зависимости от категорий 'time'"
   ]
  },
  {
   "cell_type": "code",
   "execution_count": null,
   "metadata": {},
   "outputs": [],
   "source": [
    "fig, axes = plt.subplots(2, 1, figsize=(15, 10))\n",
    "\n",
    "# Данные для каждой категории времени\n",
    "lunch_tips = tips[tips['time'] == 'Lunch']['tip']\n",
    "dinner_tips = tips[tips['time'] == 'Dinner']['tip']\n",
    "\n",
    "# Гистограмма для обеда\n",
    "axes[0].hist(lunch_tips, bins=15, alpha=0.7, color='lightblue', edgecolor='black')\n",
    "axes[0].set_title('Распределение tip во время Lunch')\n",
    "axes[0].set_xlabel('Tip ($)')\n",
    "\n",
    "# Гистограмма для ужина\n",
    "axes[1].hist(dinner_tips, bins=15, alpha=0.7, color='lightcoral', edgecolor='black')\n",
    "axes[1].set_title('Распределение tip во время Dinner')\n",
    "axes[1].set_xlabel('Tip ($)')\n",
    "\n",
    "plt.tight_layout()\n",
    "plt.show()"
   ]
  },
  {
   "cell_type": "markdown",
   "metadata": {},
   "source": [
    "### Постройте два графика scatterplot, представляющих взаимосвязь между признаками 'total_bill' и 'tip' один для Male, другой для Female и раскрасьте точки в зависимоти от признака 'smoker'"
   ]
  },
  {
   "cell_type": "code",
   "execution_count": null,
   "metadata": {},
   "outputs": [],
   "source": [
    "male = tips[tips['sex'] == 'Male']\n",
    "female = tips[tips['sex'] == 'Female']\n",
    "\n",
    "print(male.describe())\n",
    "print(female.describe())\n"
   ]
  },
  {
   "cell_type": "code",
   "execution_count": null,
   "metadata": {},
   "outputs": [],
   "source": [
    "fig, axes = plt.subplots(2, 1, figsize=(15, 10))\n",
    "\n",
    "# Для мужчин\n",
    "sns.regplot(data=male, x='total_bill', y='tip', ax=axes[0], \n",
    "            scatter_kws={'alpha': 0.7, 'color': 'lightblue', 'edgecolor': 'black'})\n",
    "axes[0].set_title('Scatter plot с регрессией - Мужчины')\n",
    "axes[0].set_xlabel('Total Bill ($)')\n",
    "axes[0].set_ylabel('Tip ($)')\n",
    "\n",
    "# Для женщин\n",
    "sns.regplot(data=female, x='total_bill', y='tip', ax=axes[1],\n",
    "            scatter_kws={'alpha': 0.7, 'color': 'lightcoral', 'edgecolor': 'black'})\n",
    "axes[1].set_title('Scatter plot с регрессией - Женщины')\n",
    "axes[1].set_xlabel('Total Bill ($)')\n",
    "axes[1].set_ylabel('Tip ($)')\n",
    "\n",
    "plt.tight_layout()\n",
    "plt.show()"
   ]
  },
  {
   "cell_type": "code",
   "execution_count": null,
   "metadata": {},
   "outputs": [],
   "source": [
    "sns.boxplot(x=\"size\", y=\"tip\", data=tips)\n",
    "plt.show()"
   ]
  },
  {
   "cell_type": "code",
   "execution_count": null,
   "metadata": {},
   "outputs": [],
   "source": [
    "\n",
    "tips[\"tip_pct\"] = tips[\"tip\"] / tips[\"total_bill\"] * 100\n",
    "sns.barplot(x=\"size\", y=\"tip_pct\", data=tips)\n",
    "plt.title(\"Чаевые (%) по размеру компании\")\n",
    "plt.show()"
   ]
  },
  {
   "cell_type": "markdown",
   "metadata": {},
   "source": [
    "## Сделайте выводы по анализу датасета и построенным графикам. По желанию можете продолжить анализ данных и также отразить это в выводах."
   ]
  },
  {
   "cell_type": "markdown",
   "metadata": {},
   "source": [
    "**Качество данных:**\n",
    "- Пропусков нет;\n",
    "- Датасет неравномерный по времени и дням;\n",
    "- Дублей нет.\n",
    "\n",
    "**Выбросы**\n",
    "Выбросы есть, но их количество небольшое - 3-4%. Они в большую сторону, потому что есть крупные компании, которые закрывают большие чеки. Это подтверждает корреляция между total_bill и size. \n",
    "\n",
    "Диаграмма carplot total_bill/tips показывает, что есть регрессия и при увеличении счет растет размер чаевых. Но мы также видим что в среднем маленькие компании оставляют больший процент чаевых (tips[\"tip\"] / tips[\"total_bill\"] * 100)\n",
    "\n",
    "**Категориальные переменные**\n",
    "Размер выборки маленький - 244 строки.\n",
    "Пол: 157 мужчин, 87 женщин. 64% посетителей — мужчины.\n",
    "Курение: 151 некурящий, 93 курящих. 38% курящие.\n",
    "День недели: больше всего данных за субботу (87) и воскресенье (76), меньше всего за пятницу (19).\n",
    "Время: в основном ужины (176), меньше ланчей (68).\n",
    "\n",
    "**Выводы**\n",
    "Датасет чистый — нет пропусков, данные адекватные.\n",
    "Распределение total_bill асимметричное с редкими большими значениями.\n",
    "Размер компании в большинстве случаев маленький (2–3 человека).\n",
    "Мужчины чаще встречаются в выборке, и они чаще платят за ужин.\n",
    "Курящих довольно много (~38%).\n",
    "Временной перекос — большинство данных собрано за ужин выходных.\n"
   ]
  }
 ],
 "metadata": {
  "kernelspec": {
   "display_name": ".venv",
   "language": "python",
   "name": "python3"
  },
  "language_info": {
   "codemirror_mode": {
    "name": "ipython",
    "version": 3
   },
   "file_extension": ".py",
   "mimetype": "text/x-python",
   "name": "python",
   "nbconvert_exporter": "python",
   "pygments_lexer": "ipython3",
   "version": "3.13.5"
  },
  "toc-autonumbering": false
 },
 "nbformat": 4,
 "nbformat_minor": 2
}
